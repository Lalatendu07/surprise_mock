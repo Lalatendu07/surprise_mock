{
  "nbformat": 4,
  "nbformat_minor": 0,
  "metadata": {
    "colab": {
      "provenance": []
    },
    "kernelspec": {
      "name": "python3",
      "display_name": "Python 3"
    },
    "language_info": {
      "name": "python"
    }
  },
  "cells": [
    {
      "cell_type": "markdown",
      "source": [
        "Given an integer array nums, move all 0's to the end of it while maintaining the relative order of the non-zero elements.\n",
        "\n",
        "Note that you must do this in-place without making a copy of the array.\n",
        "\n",
        "Example 1:\n",
        "Input: nums = [0,1,0,3,12]\n",
        "Output: [1,3,12,0,0]\n",
        "\n",
        "Example 2:\n",
        "Input: nums = [0]\n",
        "Output: [0]\n",
        "\n",
        "Constraints:\n",
        "a. 1 <= nums.length <= 10^4\n",
        "b. -2^31 <= nums[i] <= 2^31 - 1\n",
        "\n",
        "Note: Create a GitHub file for the solution and add the file link the the answer section below.\n"
      ],
      "metadata": {
        "id": "zQBg1Ufe3LXf"
      }
    },
    {
      "cell_type": "code",
      "execution_count": 1,
      "metadata": {
        "colab": {
          "base_uri": "https://localhost:8080/"
        },
        "id": "zDyDub4o20dB",
        "outputId": "f04439e4-e296-41aa-e1f3-62456c8e2e16"
      },
      "outputs": [
        {
          "output_type": "execute_result",
          "data": {
            "text/plain": [
              "[1, 3, 12, 0, 0]"
            ]
          },
          "metadata": {},
          "execution_count": 1
        }
      ],
      "source": [
        "def solution(num:list):\n",
        "  n=0\n",
        "  for i in num:\n",
        "    if i==0:\n",
        "      num.remove(i)\n",
        "      n+=1\n",
        "  for j in range(n):\n",
        "    num.append(0)\n",
        "  return num\n",
        "\n",
        "solution([0,1,0,3,12])        "
      ]
    },
    {
      "cell_type": "markdown",
      "source": [
        "First Unique Character in a String\n",
        "\n",
        "Given a string s, find the first non-repeating character in it and return its index. If it does not exist, return -1.\n",
        "\n",
        "Example 1:\n",
        "Input: s = \"leetcode\"\n",
        "Output: 0\n",
        "\n",
        "Example 2:\n",
        "Input: s = \"loveleetcode\"\n",
        "Output: 2\n",
        "\n",
        "Example 3:\n",
        "Input: s = \"aabb\"\n",
        "Output: -1\n",
        "\n",
        "Constraints:\n",
        "a. 1 <= s.length <= 10^5\n",
        "b. s consists of only lowercase English letters.\n",
        "\n",
        "Note: Create a GitHub file for the solution and add the file link the the answer section below."
      ],
      "metadata": {
        "id": "8u8oFGpL5Wsz"
      }
    },
    {
      "cell_type": "code",
      "source": [
        "def solution(s:str):\n",
        "  for i in range(len(s)):\n",
        "    if s.count(s[i])==1:\n",
        "      return i\n",
        "      break\n",
        "\n",
        "solution(\"loveleetcode\")     \n",
        "\n"
      ],
      "metadata": {
        "colab": {
          "base_uri": "https://localhost:8080/"
        },
        "id": "SBS9Db9s48Dt",
        "outputId": "98563c13-fea2-4508-9a5f-7d35eb34c2b6"
      },
      "execution_count": 6,
      "outputs": [
        {
          "output_type": "execute_result",
          "data": {
            "text/plain": [
              "2"
            ]
          },
          "metadata": {},
          "execution_count": 6
        }
      ]
    },
    {
      "cell_type": "code",
      "source": [],
      "metadata": {
        "id": "oTpXWXkE7OU6"
      },
      "execution_count": null,
      "outputs": []
    }
  ]
}